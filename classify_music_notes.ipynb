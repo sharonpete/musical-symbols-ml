{
 "cells": [
  {
   "cell_type": "code",
   "execution_count": null,
   "metadata": {},
   "outputs": [],
   "source": [
    "import os\n",
    "import numpy as np\n",
    "import tensorflow as tf"
   ]
  },
  {
   "cell_type": "code",
   "execution_count": null,
   "metadata": {},
   "outputs": [],
   "source": [
    "# Sklearn scaling\n",
    "from sklearn.preprocessing import MinMaxScaler\n",
    "from sklearn.model_selection import train_test_split"
   ]
  },
  {
   "cell_type": "code",
   "execution_count": null,
   "metadata": {},
   "outputs": [],
   "source": [
    "import cv2\n",
    "# Keras\n",
    "from tensorflow import keras\n",
    "from tensorflow.keras.models import Sequential\n",
    "from tensorflow.keras.utils import to_categorical\n",
    "from tensorflow.keras.layers import Dense\n",
    "from tensorflow.keras.preprocessing import image"
   ]
  },
  {
   "cell_type": "code",
   "execution_count": null,
   "metadata": {},
   "outputs": [],
   "source": [
    "## figure out how to deal with files\n",
    "counter = 0\n",
    "img_data_array=[]\n",
    "class_name=[]\n",
    "\n",
    "for file in os.listdir(os.path.join(\"..\", \"Images\")):\n",
    "    counter +=1\n",
    "#    print(file)\n",
    "    image_path= os.path.join(\"..\", \"Images\",  file)\n",
    "#     img = image.load_img(image_path, target_size=(64,64))\n",
    "#     x = image.img_to_array(img)\n",
    "    image= cv2.imread( image_path, cv2.IMREAD_GRAYSCALE)\n",
    "#     image=cv2.resize(image, (IMG_HEIGHT, IMG_WIDTH),interpolation = cv2.INTER_AREA)\n",
    "    imgage=np.array(image)\n",
    "#     print(image.shape)\n",
    "    image = image.astype('float32')\n",
    "    image /= 255 #this gets black and white to 1s and 0s \n",
    "    img_data_array.append(image)\n",
    "    note_class = file[0:1]\n",
    "#     print(note_class)\n",
    "    class_name.append(note_class)\n",
    "    #return img_data_array, class_name\n",
    "#    print(image.shape)\n",
    "#    print(\"========\")\n",
    "#     break\n",
    "#    if (counter>5):\n",
    "#        break;\n"
   ]
  },
  {
   "cell_type": "code",
   "execution_count": null,
   "metadata": {},
   "outputs": [],
   "source": [
    "note_classifier_dict = {key:value for value, key in enumerate(np.unique(class_name))}"
   ]
  },
  {
   "cell_type": "code",
   "execution_count": null,
   "metadata": {},
   "outputs": [],
   "source": [
    "note_classifier_dict"
   ]
  },
  {
   "cell_type": "code",
   "execution_count": null,
   "metadata": {},
   "outputs": [],
   "source": [
    "target_val=  [note_classifier_dict[class_name[i]] for i in range(len(class_name))]"
   ]
  },
  {
   "cell_type": "code",
   "execution_count": null,
   "metadata": {},
   "outputs": [],
   "source": [
    "np.set_printoptions(threshold=100000)\n",
    "img_data_array[0]"
   ]
  },
  {
   "cell_type": "code",
   "execution_count": null,
   "metadata": {},
   "outputs": [],
   "source": [
    "#test to make sure our images are still good.\n",
    "import matplotlib.pyplot as plt\n",
    "plt.imshow(img_data_array[0], cmap=plt.cm.Greys)"
   ]
  },
  {
   "cell_type": "code",
   "execution_count": null,
   "metadata": {},
   "outputs": [],
   "source": [
    "# flatten the 64x64 pixels in to a 1D array \n",
    "num_dimensions = 64*64\n",
    "img_data_array[0].shape\n",
    "#need to make this an np array so we can use reshape\n",
    "x=np.array(img_data_array, np.float32)\n",
    "\n",
    "reshape_test = x.reshape(x.shape[0],num_dimensions)"
   ]
  },
  {
   "cell_type": "code",
   "execution_count": null,
   "metadata": {},
   "outputs": [],
   "source": [
    "reshape_test.shape"
   ]
  },
  {
   "cell_type": "code",
   "execution_count": null,
   "metadata": {},
   "outputs": [],
   "source": [
    "X_train, X_test, y_train, y_test = train_test_split(reshape_test,target_val, random_state=42)"
   ]
  },
  {
   "cell_type": "code",
   "execution_count": null,
   "metadata": {},
   "outputs": [],
   "source": []
  },
  {
   "cell_type": "code",
   "execution_count": null,
   "metadata": {},
   "outputs": [],
   "source": []
  }
 ],
 "metadata": {
  "kernelspec": {
   "display_name": "Python 3",
   "language": "python",
   "name": "python3"
  },
  "language_info": {
   "codemirror_mode": {
    "name": "ipython",
    "version": 3
   },
   "file_extension": ".py",
   "mimetype": "text/x-python",
   "name": "python",
   "nbconvert_exporter": "python",
   "pygments_lexer": "ipython3",
   "version": "3.6.10"
  }
 },
 "nbformat": 4,
 "nbformat_minor": 4
}
